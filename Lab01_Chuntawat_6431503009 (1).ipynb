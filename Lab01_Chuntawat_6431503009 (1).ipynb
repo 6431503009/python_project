{
 "cells": [
  {
   "cell_type": "code",
   "execution_count": 1,
   "id": "cb2321a7",
   "metadata": {},
   "outputs": [],
   "source": [
    "#Q1"
   ]
  },
  {
   "cell_type": "code",
   "execution_count": 3,
   "id": "1fe36d45",
   "metadata": {},
   "outputs": [
    {
     "name": "stdout",
     "output_type": "stream",
     "text": [
      "Enter amount of money to withdraw: 15000\n",
      "You want to withdraw 15000 Bath\n"
     ]
    }
   ],
   "source": [
    "money = 0;\n",
    "money = int(input(\"Enter amount of money to withdraw: \"))\n",
    "\n",
    "if (money > 0):\n",
    "    print(\"You want to withdraw {} Bath\".format(money))\n",
    "else:\n",
    "    print(\"Money must be more than 0.\")"
   ]
  },
  {
   "cell_type": "code",
   "execution_count": 4,
   "id": "13f65b7c",
   "metadata": {
    "scrolled": true
   },
   "outputs": [
    {
     "name": "stdout",
     "output_type": "stream",
     "text": [
      "Enter amount of money to withdraw: 0\n",
      "Money must be more than 0.\n"
     ]
    }
   ],
   "source": [
    "money = 0;\n",
    "money = int(input(\"Enter amount of money to withdraw: \"))\n",
    "\n",
    "if (money > 0):\n",
    "    print(\"You want to withdraw {} Bath\".format(money))\n",
    "else:\n",
    "    print(\"Money must be more than 0.\")"
   ]
  },
  {
   "cell_type": "code",
   "execution_count": null,
   "id": "f2c1de34",
   "metadata": {},
   "outputs": [],
   "source": [
    "#Q2"
   ]
  },
  {
   "cell_type": "code",
   "execution_count": 25,
   "id": "cafa71ab",
   "metadata": {},
   "outputs": [
    {
     "name": "stdout",
     "output_type": "stream",
     "text": [
      "Enter amount of money to withdraw: 30000\n",
      "You want to Withdraw 300 of hunred banknotes\n"
     ]
    }
   ],
   "source": [
    "money = 0;\n",
    "money = int(input(\"Enter amount of money to withdraw: \"))\n",
    "\n",
    "if (money > 0):\n",
    "    if (money <= 30000):\n",
    "        if (money % 100 == 0):\n",
    "            banknotes = money / 100\n",
    "            print(\"You want to Withdraw {} of hunred banknotes\".format(int(banknotes)))\n",
    "        else:\n",
    "            print(\"This matchine only returns a hunred banknotes\")\n",
    "    else:\n",
    "        print(\"Over the limit to exess 30000 Bath\")\n",
    "else:\n",
    "    print(\"Money must be more than 0.\")"
   ]
  },
  {
   "cell_type": "code",
   "execution_count": 26,
   "id": "23b26d78",
   "metadata": {},
   "outputs": [],
   "source": [
    "#Q3"
   ]
  },
  {
   "cell_type": "code",
   "execution_count": 45,
   "id": "3b2bf9b9",
   "metadata": {},
   "outputs": [
    {
     "name": "stdout",
     "output_type": "stream",
     "text": [
      "['Monday', 'Tuesday', 'Wednesday', 'Thursday', 'Friday']\n"
     ]
    }
   ],
   "source": [
    "days = ['Monday', 'Tuesday', 'Wednesday', 'Thursday', 'Friday']\n",
    "print(days)"
   ]
  },
  {
   "cell_type": "code",
   "execution_count": 46,
   "id": "deceaa63",
   "metadata": {},
   "outputs": [
    {
     "name": "stdout",
     "output_type": "stream",
     "text": [
      "['Monday', 'Tuesday', 'Wednesday', 'Thursday', 'Friday', 'Saturday', 'Sunday']\n"
     ]
    }
   ],
   "source": [
    "days.append('Saturday')\n",
    "days.append('Sunday')\n",
    "print(days)"
   ]
  },
  {
   "cell_type": "code",
   "execution_count": 49,
   "id": "6a07e2f4",
   "metadata": {},
   "outputs": [
    {
     "name": "stdout",
     "output_type": "stream",
     "text": [
      "['Tuesday', 'Wednesday', 'Thursday', 'Friday', 'Saturday', 'Sunday']\n"
     ]
    }
   ],
   "source": [
    "days.remove('Monday')\n",
    "print(days)"
   ]
  },
  {
   "cell_type": "code",
   "execution_count": 50,
   "id": "4c97468d",
   "metadata": {},
   "outputs": [
    {
     "name": "stdout",
     "output_type": "stream",
     "text": [
      "['Tuesday', 'Wednesday', 'Thursday', 'Saturday', 'Sunday']\n"
     ]
    }
   ],
   "source": [
    "days.remove('Friday')\n",
    "print(days)"
   ]
  },
  {
   "cell_type": "code",
   "execution_count": 51,
   "id": "36cdf789",
   "metadata": {},
   "outputs": [
    {
     "name": "stdout",
     "output_type": "stream",
     "text": [
      "['Tuesday', 'Wednesday', 'Thursday', 'Sunday']\n"
     ]
    }
   ],
   "source": [
    "days.remove('Saturday')\n",
    "print(days)"
   ]
  },
  {
   "cell_type": "code",
   "execution_count": 52,
   "id": "e2740d4e",
   "metadata": {},
   "outputs": [],
   "source": [
    "#Q4"
   ]
  },
  {
   "cell_type": "code",
   "execution_count": 60,
   "id": "310162cd",
   "metadata": {},
   "outputs": [
    {
     "name": "stdout",
     "output_type": "stream",
     "text": [
      "Please input the day using a tree-letter keyword, such as 'mon' :: mon\n",
      "Monday\n"
     ]
    }
   ],
   "source": [
    "day = {\"mon\": \"Monday\", \"tue\": \"Tuesday\", \"wed\": \"Wednesday\", \"thu\": \"Thursday\", \"fri\": \"Friday\", \"sat\": \"Saturday\", \"sun\": \"Sunday\"}\n",
    "\n",
    "keyword = input(\"Please input the day using a tree-letter keyword, such as 'mon' :: \")\n",
    "\n",
    "print(day[keyword])"
   ]
  },
  {
   "cell_type": "code",
   "execution_count": 61,
   "id": "304403c0",
   "metadata": {},
   "outputs": [],
   "source": [
    "#Q5"
   ]
  },
  {
   "cell_type": "code",
   "execution_count": 75,
   "id": "ff18ee8d",
   "metadata": {},
   "outputs": [
    {
     "name": "stdout",
     "output_type": "stream",
     "text": [
      "======= Food Shop Menu =======\n",
      "1. Noodle (23 Baht)\n",
      "2. Berger (46 Baht)\n",
      "Please select a menu 1 or 2: 2\n",
      "How much money do you have?... 50\n",
      "You select Berger. This is 46 Baht\n",
      "You pay 50 Baht\n",
      "You get change for 4 Baht\n",
      "You get 4 One-baht coins\n"
     ]
    }
   ],
   "source": [
    "noodle = 23\n",
    "berger = 46\n",
    "\n",
    "print(\"======= Food Shop Menu =======\")\n",
    "print(\"1. Noodle (23 Baht)\")\n",
    "print(\"2. Berger (46 Baht)\")\n",
    "\n",
    "menu = int(input(\"Please select a menu 1 or 2: \"))\n",
    "money = int(input(\"How much money do you have?... \"))\n",
    "\n",
    "if (menu == 1):\n",
    "    price = noodle\n",
    "    print(\"You select noodle. This is {} Baht\".format(noodle))\n",
    "elif (menu == 2):\n",
    "    price = berger\n",
    "    print(\"You select Berger. This is {} Baht\".format(berger))\n",
    "else:\n",
    "    print(\"Invalid menu option selected.\")\n",
    "\n",
    "print(\"You pay {} Baht\".format(money))\n",
    "\n",
    "if money < price:\n",
    "    print(\"You do not have enough money.\")\n",
    "\n",
    "change = money - price\n",
    "print(\"You get change for {} Baht\".format(change))\n",
    "\n",
    "fifty = change // 50\n",
    "change = change % 50\n",
    "if (fifty > 0):\n",
    "    print(f\"You get {fifty} Fifty-baht banknotes\")\n",
    "\n",
    "twenty = change // 20\n",
    "change = change % 20\n",
    "if (twenty > 0):\n",
    "    print(f\"You get {twenty} Twenty-baht banknotes\")\n",
    "    \n",
    "one = change\n",
    "if (one > 0):\n",
    "    print(f\"You get {one} One-baht coins\")\n"
   ]
  },
  {
   "cell_type": "code",
   "execution_count": null,
   "id": "c30511e1",
   "metadata": {},
   "outputs": [],
   "source": []
  }
 ],
 "metadata": {
  "kernelspec": {
   "display_name": "Python 3 (ipykernel)",
   "language": "python",
   "name": "python3"
  },
  "language_info": {
   "codemirror_mode": {
    "name": "ipython",
    "version": 3
   },
   "file_extension": ".py",
   "mimetype": "text/x-python",
   "name": "python",
   "nbconvert_exporter": "python",
   "pygments_lexer": "ipython3",
   "version": "3.9.13"
  }
 },
 "nbformat": 4,
 "nbformat_minor": 5
}
