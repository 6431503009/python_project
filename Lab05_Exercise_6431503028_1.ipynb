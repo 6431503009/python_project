{
 "cells": [
  {
   "cell_type": "markdown",
   "id": "269a542e",
   "metadata": {},
   "source": [
    "# Lab05: Cleaning Data\n",
    "#Fill in the blanks with the instruction code for a fulfilled program."
   ]
  },
  {
   "cell_type": "markdown",
   "id": "97846928",
   "metadata": {},
   "source": [
    "### Import Python Package\n",
    "* NumPy and Pandas\n",
    "* import matplotlib.pyplot as plt and %matplotlib inline\n",
    "* import seaborn as sns"
   ]
  },
  {
   "cell_type": "code",
   "execution_count": 9,
   "id": "5385af6c",
   "metadata": {},
   "outputs": [],
   "source": [
    "import numpy as np\n",
    "import seaborn as sns\n",
    "import matplotlib.pyplot as plt\n",
    "%matplotlib inline\n",
    "import pandas as pd\n",
    "\n",
    "\n"
   ]
  },
  {
   "cell_type": "markdown",
   "id": "9eb3f42b",
   "metadata": {},
   "source": [
    "### Input Dataset\n",
    "* read csv \"customers.csv\"\n",
    "* show first 5 rows"
   ]
  },
  {
   "cell_type": "code",
   "execution_count": 13,
   "id": "08b706ed",
   "metadata": {},
   "outputs": [
    {
     "data": {
      "text/html": [
       "<div>\n",
       "<style scoped>\n",
       "    .dataframe tbody tr th:only-of-type {\n",
       "        vertical-align: middle;\n",
       "    }\n",
       "\n",
       "    .dataframe tbody tr th {\n",
       "        vertical-align: top;\n",
       "    }\n",
       "\n",
       "    .dataframe thead th {\n",
       "        text-align: right;\n",
       "    }\n",
       "</style>\n",
       "<table border=\"1\" class=\"dataframe\">\n",
       "  <thead>\n",
       "    <tr style=\"text-align: right;\">\n",
       "      <th></th>\n",
       "      <th>age</th>\n",
       "      <th>gender</th>\n",
       "      <th>region</th>\n",
       "      <th>income</th>\n",
       "      <th>married</th>\n",
       "      <th>children</th>\n",
       "      <th>car</th>\n",
       "      <th>response</th>\n",
       "    </tr>\n",
       "    <tr>\n",
       "      <th>customer_id</th>\n",
       "      <th></th>\n",
       "      <th></th>\n",
       "      <th></th>\n",
       "      <th></th>\n",
       "      <th></th>\n",
       "      <th></th>\n",
       "      <th></th>\n",
       "      <th></th>\n",
       "    </tr>\n",
       "  </thead>\n",
       "  <tbody>\n",
       "    <tr>\n",
       "      <th>ID12101</th>\n",
       "      <td>48.0</td>\n",
       "      <td>F</td>\n",
       "      <td>NaN</td>\n",
       "      <td>17546.0</td>\n",
       "      <td>NO</td>\n",
       "      <td>1.0</td>\n",
       "      <td>NO</td>\n",
       "      <td>NO</td>\n",
       "    </tr>\n",
       "    <tr>\n",
       "      <th>ID12102</th>\n",
       "      <td>40.0</td>\n",
       "      <td>MALE</td>\n",
       "      <td>TOWN</td>\n",
       "      <td>30085.1</td>\n",
       "      <td>YES</td>\n",
       "      <td>NaN</td>\n",
       "      <td>YES</td>\n",
       "      <td>NO</td>\n",
       "    </tr>\n",
       "    <tr>\n",
       "      <th>ID12103</th>\n",
       "      <td>51.0</td>\n",
       "      <td>WOMEN</td>\n",
       "      <td>INNER_CITY</td>\n",
       "      <td>16575.4</td>\n",
       "      <td>YES</td>\n",
       "      <td>0.0</td>\n",
       "      <td>YES</td>\n",
       "      <td>YES</td>\n",
       "    </tr>\n",
       "    <tr>\n",
       "      <th>ID12104</th>\n",
       "      <td>23.0</td>\n",
       "      <td>FEMALE</td>\n",
       "      <td>TOWN</td>\n",
       "      <td>20375.4</td>\n",
       "      <td>YES</td>\n",
       "      <td>3.0</td>\n",
       "      <td>NO</td>\n",
       "      <td>NO</td>\n",
       "    </tr>\n",
       "    <tr>\n",
       "      <th>ID12104</th>\n",
       "      <td>23.0</td>\n",
       "      <td>FEMALE</td>\n",
       "      <td>TOWN</td>\n",
       "      <td>20375.4</td>\n",
       "      <td>YES</td>\n",
       "      <td>3.0</td>\n",
       "      <td>NO</td>\n",
       "      <td>NO</td>\n",
       "    </tr>\n",
       "  </tbody>\n",
       "</table>\n",
       "</div>"
      ],
      "text/plain": [
       "              age  gender      region   income married  children  car response\n",
       "customer_id                                                                   \n",
       "ID12101      48.0       F         NaN  17546.0      NO       1.0   NO       NO\n",
       "ID12102      40.0    MALE        TOWN  30085.1     YES       NaN  YES       NO\n",
       "ID12103      51.0   WOMEN  INNER_CITY  16575.4     YES       0.0  YES      YES\n",
       "ID12104      23.0  FEMALE        TOWN  20375.4     YES       3.0   NO       NO\n",
       "ID12104      23.0  FEMALE        TOWN  20375.4     YES       3.0   NO       NO"
      ]
     },
     "execution_count": 13,
     "metadata": {},
     "output_type": "execute_result"
    }
   ],
   "source": [
    "##Loading data to data frame\n",
    "dfCtm = pd.read_csv('customers.csv')\n",
    "df = dfCtm.set_index('customer_id')\n",
    "df.head(5)\n",
    "\n"
   ]
  },
  {
   "cell_type": "markdown",
   "id": "ba4d2d9e",
   "metadata": {},
   "source": [
    "### Step1: Understand dataset"
   ]
  },
  {
   "cell_type": "code",
   "execution_count": 14,
   "id": "29b71cff",
   "metadata": {},
   "outputs": [
    {
     "data": {
      "text/plain": [
       "(300, 8)"
      ]
     },
     "execution_count": 14,
     "metadata": {},
     "output_type": "execute_result"
    }
   ],
   "source": [
    "# check out the dimension of the dataset\n",
    "df.shape\n",
    "\n"
   ]
  },
  {
   "cell_type": "code",
   "execution_count": 15,
   "id": "4299a640",
   "metadata": {},
   "outputs": [
    {
     "data": {
      "text/html": [
       "<div>\n",
       "<style scoped>\n",
       "    .dataframe tbody tr th:only-of-type {\n",
       "        vertical-align: middle;\n",
       "    }\n",
       "\n",
       "    .dataframe tbody tr th {\n",
       "        vertical-align: top;\n",
       "    }\n",
       "\n",
       "    .dataframe thead th {\n",
       "        text-align: right;\n",
       "    }\n",
       "</style>\n",
       "<table border=\"1\" class=\"dataframe\">\n",
       "  <thead>\n",
       "    <tr style=\"text-align: right;\">\n",
       "      <th></th>\n",
       "      <th>age</th>\n",
       "      <th>gender</th>\n",
       "      <th>region</th>\n",
       "      <th>income</th>\n",
       "      <th>married</th>\n",
       "      <th>children</th>\n",
       "      <th>car</th>\n",
       "      <th>response</th>\n",
       "    </tr>\n",
       "    <tr>\n",
       "      <th>customer_id</th>\n",
       "      <th></th>\n",
       "      <th></th>\n",
       "      <th></th>\n",
       "      <th></th>\n",
       "      <th></th>\n",
       "      <th></th>\n",
       "      <th></th>\n",
       "      <th></th>\n",
       "    </tr>\n",
       "  </thead>\n",
       "  <tbody>\n",
       "    <tr>\n",
       "      <th>ID12101</th>\n",
       "      <td>48.0</td>\n",
       "      <td>F</td>\n",
       "      <td>NaN</td>\n",
       "      <td>17546.0</td>\n",
       "      <td>NO</td>\n",
       "      <td>1.0</td>\n",
       "      <td>NO</td>\n",
       "      <td>NO</td>\n",
       "    </tr>\n",
       "    <tr>\n",
       "      <th>ID12102</th>\n",
       "      <td>40.0</td>\n",
       "      <td>MALE</td>\n",
       "      <td>TOWN</td>\n",
       "      <td>30085.1</td>\n",
       "      <td>YES</td>\n",
       "      <td>NaN</td>\n",
       "      <td>YES</td>\n",
       "      <td>NO</td>\n",
       "    </tr>\n",
       "    <tr>\n",
       "      <th>ID12103</th>\n",
       "      <td>51.0</td>\n",
       "      <td>WOMEN</td>\n",
       "      <td>INNER_CITY</td>\n",
       "      <td>16575.4</td>\n",
       "      <td>YES</td>\n",
       "      <td>0.0</td>\n",
       "      <td>YES</td>\n",
       "      <td>YES</td>\n",
       "    </tr>\n",
       "    <tr>\n",
       "      <th>ID12104</th>\n",
       "      <td>23.0</td>\n",
       "      <td>FEMALE</td>\n",
       "      <td>TOWN</td>\n",
       "      <td>20375.4</td>\n",
       "      <td>YES</td>\n",
       "      <td>3.0</td>\n",
       "      <td>NO</td>\n",
       "      <td>NO</td>\n",
       "    </tr>\n",
       "    <tr>\n",
       "      <th>ID12104</th>\n",
       "      <td>23.0</td>\n",
       "      <td>FEMALE</td>\n",
       "      <td>TOWN</td>\n",
       "      <td>20375.4</td>\n",
       "      <td>YES</td>\n",
       "      <td>3.0</td>\n",
       "      <td>NO</td>\n",
       "      <td>NO</td>\n",
       "    </tr>\n",
       "    <tr>\n",
       "      <th>ID12105</th>\n",
       "      <td>NaN</td>\n",
       "      <td>MALE</td>\n",
       "      <td>RURAL</td>\n",
       "      <td>50576.3</td>\n",
       "      <td>YES</td>\n",
       "      <td>0.0</td>\n",
       "      <td>NO</td>\n",
       "      <td>YES</td>\n",
       "    </tr>\n",
       "    <tr>\n",
       "      <th>ID12106</th>\n",
       "      <td>57.0</td>\n",
       "      <td>WOMEN</td>\n",
       "      <td>TOWN</td>\n",
       "      <td>37869.6</td>\n",
       "      <td>YES</td>\n",
       "      <td>2.0</td>\n",
       "      <td>NO</td>\n",
       "      <td>YES</td>\n",
       "    </tr>\n",
       "  </tbody>\n",
       "</table>\n",
       "</div>"
      ],
      "text/plain": [
       "              age  gender      region   income married  children  car response\n",
       "customer_id                                                                   \n",
       "ID12101      48.0       F         NaN  17546.0      NO       1.0   NO       NO\n",
       "ID12102      40.0    MALE        TOWN  30085.1     YES       NaN  YES       NO\n",
       "ID12103      51.0   WOMEN  INNER_CITY  16575.4     YES       0.0  YES      YES\n",
       "ID12104      23.0  FEMALE        TOWN  20375.4     YES       3.0   NO       NO\n",
       "ID12104      23.0  FEMALE        TOWN  20375.4     YES       3.0   NO       NO\n",
       "ID12105       NaN    MALE       RURAL  50576.3     YES       0.0   NO      YES\n",
       "ID12106      57.0   WOMEN        TOWN  37869.6     YES       2.0   NO      YES"
      ]
     },
     "execution_count": 15,
     "metadata": {},
     "output_type": "execute_result"
    }
   ],
   "source": [
    "# read the first 7 rows\n",
    "df.head(7)\n",
    "\n"
   ]
  },
  {
   "cell_type": "code",
   "execution_count": 16,
   "id": "db72a868",
   "metadata": {},
   "outputs": [
    {
     "data": {
      "text/html": [
       "<div>\n",
       "<style scoped>\n",
       "    .dataframe tbody tr th:only-of-type {\n",
       "        vertical-align: middle;\n",
       "    }\n",
       "\n",
       "    .dataframe tbody tr th {\n",
       "        vertical-align: top;\n",
       "    }\n",
       "\n",
       "    .dataframe thead th {\n",
       "        text-align: right;\n",
       "    }\n",
       "</style>\n",
       "<table border=\"1\" class=\"dataframe\">\n",
       "  <thead>\n",
       "    <tr style=\"text-align: right;\">\n",
       "      <th></th>\n",
       "      <th>age</th>\n",
       "      <th>gender</th>\n",
       "      <th>region</th>\n",
       "      <th>income</th>\n",
       "      <th>married</th>\n",
       "      <th>children</th>\n",
       "      <th>car</th>\n",
       "      <th>response</th>\n",
       "    </tr>\n",
       "    <tr>\n",
       "      <th>customer_id</th>\n",
       "      <th></th>\n",
       "      <th></th>\n",
       "      <th></th>\n",
       "      <th></th>\n",
       "      <th></th>\n",
       "      <th></th>\n",
       "      <th></th>\n",
       "      <th></th>\n",
       "    </tr>\n",
       "  </thead>\n",
       "  <tbody>\n",
       "    <tr>\n",
       "      <th>ID12393</th>\n",
       "      <td>51.0</td>\n",
       "      <td>MALE</td>\n",
       "      <td>RURAL</td>\n",
       "      <td>46323.80</td>\n",
       "      <td>YES</td>\n",
       "      <td>2.0</td>\n",
       "      <td>YES</td>\n",
       "      <td>YES</td>\n",
       "    </tr>\n",
       "    <tr>\n",
       "      <th>ID12394</th>\n",
       "      <td>26.0</td>\n",
       "      <td>FEMALE</td>\n",
       "      <td>TOWN</td>\n",
       "      <td>20950.70</td>\n",
       "      <td>YES</td>\n",
       "      <td>0.0</td>\n",
       "      <td>NO</td>\n",
       "      <td>YES</td>\n",
       "    </tr>\n",
       "    <tr>\n",
       "      <th>ID12395</th>\n",
       "      <td>42.0</td>\n",
       "      <td>MALE</td>\n",
       "      <td>TOWN</td>\n",
       "      <td>22495.70</td>\n",
       "      <td>YES</td>\n",
       "      <td>0.0</td>\n",
       "      <td>NO</td>\n",
       "      <td>YES</td>\n",
       "    </tr>\n",
       "    <tr>\n",
       "      <th>ID12396</th>\n",
       "      <td>34.0</td>\n",
       "      <td>MALE</td>\n",
       "      <td>TOWN</td>\n",
       "      <td>32548.90</td>\n",
       "      <td>YES</td>\n",
       "      <td>0.0</td>\n",
       "      <td>YES</td>\n",
       "      <td>YES</td>\n",
       "    </tr>\n",
       "    <tr>\n",
       "      <th>ID12397</th>\n",
       "      <td>54.0</td>\n",
       "      <td>FEMALE</td>\n",
       "      <td>RURAL</td>\n",
       "      <td>24583.40</td>\n",
       "      <td>NO</td>\n",
       "      <td>2.0</td>\n",
       "      <td>YES</td>\n",
       "      <td>YES</td>\n",
       "    </tr>\n",
       "    <tr>\n",
       "      <th>ID12398</th>\n",
       "      <td>18.0</td>\n",
       "      <td>MALE</td>\n",
       "      <td>RURAL</td>\n",
       "      <td>8639.24</td>\n",
       "      <td>YES</td>\n",
       "      <td>2.0</td>\n",
       "      <td>NO</td>\n",
       "      <td>NO</td>\n",
       "    </tr>\n",
       "    <tr>\n",
       "      <th>ID12399</th>\n",
       "      <td>47.0</td>\n",
       "      <td>WOMEN</td>\n",
       "      <td>INNER_CITY</td>\n",
       "      <td>17139.50</td>\n",
       "      <td>NO</td>\n",
       "      <td>2.0</td>\n",
       "      <td>YES</td>\n",
       "      <td>NO</td>\n",
       "    </tr>\n",
       "  </tbody>\n",
       "</table>\n",
       "</div>"
      ],
      "text/plain": [
       "              age  gender      region    income married  children  car  \\\n",
       "customer_id                                                              \n",
       "ID12393      51.0    MALE       RURAL  46323.80     YES       2.0  YES   \n",
       "ID12394      26.0  FEMALE        TOWN  20950.70     YES       0.0   NO   \n",
       "ID12395      42.0    MALE        TOWN  22495.70     YES       0.0   NO   \n",
       "ID12396      34.0    MALE        TOWN  32548.90     YES       0.0  YES   \n",
       "ID12397      54.0  FEMALE       RURAL  24583.40      NO       2.0  YES   \n",
       "ID12398      18.0    MALE       RURAL   8639.24     YES       2.0   NO   \n",
       "ID12399      47.0   WOMEN  INNER_CITY  17139.50      NO       2.0  YES   \n",
       "\n",
       "            response  \n",
       "customer_id           \n",
       "ID12393          YES  \n",
       "ID12394          YES  \n",
       "ID12395          YES  \n",
       "ID12396          YES  \n",
       "ID12397          YES  \n",
       "ID12398           NO  \n",
       "ID12399           NO  "
      ]
     },
     "execution_count": 16,
     "metadata": {},
     "output_type": "execute_result"
    }
   ],
   "source": [
    "# read the last 7 rows\n",
    "df.tail(7)\n"
   ]
  },
  {
   "cell_type": "code",
   "execution_count": 17,
   "id": "17bcf6e5",
   "metadata": {},
   "outputs": [
    {
     "data": {
      "text/plain": [
       "array(['age', 'gender', 'region', 'income', 'married', 'children', 'car',\n",
       "       'response'], dtype=object)"
      ]
     },
     "execution_count": 17,
     "metadata": {},
     "output_type": "execute_result"
    }
   ],
   "source": [
    "# return an arry of column names\n",
    "df.columns.values\n"
   ]
  },
  {
   "cell_type": "code",
   "execution_count": 18,
   "id": "260231a9",
   "metadata": {},
   "outputs": [
    {
     "data": {
      "text/plain": [
       "['age', 'gender', 'region', 'income', 'married', 'children', 'car', 'response']"
      ]
     },
     "execution_count": 18,
     "metadata": {},
     "output_type": "execute_result"
    }
   ],
   "source": [
    "# return a list of column names\n",
    "df.columns.tolist()\n"
   ]
  },
  {
   "cell_type": "markdown",
   "id": "d1775553",
   "metadata": {},
   "source": [
    "### Step2: Check missing value\n",
    "* df.isnull() # checking missing values\n",
    "* df.isnull().sum() # check missing by variable\n",
    "* df.isnull().sum().sum() # check how many missing values in data\n",
    "* df.nunique() function represents the unique values present in each column of the dataframe\n",
    "* df.-columnName.unique() function represents the unique values present in each column of the dataframe"
   ]
  },
  {
   "cell_type": "code",
   "execution_count": 19,
   "id": "108edc40",
   "metadata": {},
   "outputs": [
    {
     "data": {
      "text/html": [
       "<div>\n",
       "<style scoped>\n",
       "    .dataframe tbody tr th:only-of-type {\n",
       "        vertical-align: middle;\n",
       "    }\n",
       "\n",
       "    .dataframe tbody tr th {\n",
       "        vertical-align: top;\n",
       "    }\n",
       "\n",
       "    .dataframe thead th {\n",
       "        text-align: right;\n",
       "    }\n",
       "</style>\n",
       "<table border=\"1\" class=\"dataframe\">\n",
       "  <thead>\n",
       "    <tr style=\"text-align: right;\">\n",
       "      <th></th>\n",
       "      <th>age</th>\n",
       "      <th>gender</th>\n",
       "      <th>region</th>\n",
       "      <th>income</th>\n",
       "      <th>married</th>\n",
       "      <th>children</th>\n",
       "      <th>car</th>\n",
       "      <th>response</th>\n",
       "    </tr>\n",
       "    <tr>\n",
       "      <th>customer_id</th>\n",
       "      <th></th>\n",
       "      <th></th>\n",
       "      <th></th>\n",
       "      <th></th>\n",
       "      <th></th>\n",
       "      <th></th>\n",
       "      <th></th>\n",
       "      <th></th>\n",
       "    </tr>\n",
       "  </thead>\n",
       "  <tbody>\n",
       "    <tr>\n",
       "      <th>ID12101</th>\n",
       "      <td>False</td>\n",
       "      <td>False</td>\n",
       "      <td>True</td>\n",
       "      <td>False</td>\n",
       "      <td>False</td>\n",
       "      <td>False</td>\n",
       "      <td>False</td>\n",
       "      <td>False</td>\n",
       "    </tr>\n",
       "    <tr>\n",
       "      <th>ID12102</th>\n",
       "      <td>False</td>\n",
       "      <td>False</td>\n",
       "      <td>False</td>\n",
       "      <td>False</td>\n",
       "      <td>False</td>\n",
       "      <td>True</td>\n",
       "      <td>False</td>\n",
       "      <td>False</td>\n",
       "    </tr>\n",
       "    <tr>\n",
       "      <th>ID12103</th>\n",
       "      <td>False</td>\n",
       "      <td>False</td>\n",
       "      <td>False</td>\n",
       "      <td>False</td>\n",
       "      <td>False</td>\n",
       "      <td>False</td>\n",
       "      <td>False</td>\n",
       "      <td>False</td>\n",
       "    </tr>\n",
       "    <tr>\n",
       "      <th>ID12104</th>\n",
       "      <td>False</td>\n",
       "      <td>False</td>\n",
       "      <td>False</td>\n",
       "      <td>False</td>\n",
       "      <td>False</td>\n",
       "      <td>False</td>\n",
       "      <td>False</td>\n",
       "      <td>False</td>\n",
       "    </tr>\n",
       "    <tr>\n",
       "      <th>ID12104</th>\n",
       "      <td>False</td>\n",
       "      <td>False</td>\n",
       "      <td>False</td>\n",
       "      <td>False</td>\n",
       "      <td>False</td>\n",
       "      <td>False</td>\n",
       "      <td>False</td>\n",
       "      <td>False</td>\n",
       "    </tr>\n",
       "    <tr>\n",
       "      <th>...</th>\n",
       "      <td>...</td>\n",
       "      <td>...</td>\n",
       "      <td>...</td>\n",
       "      <td>...</td>\n",
       "      <td>...</td>\n",
       "      <td>...</td>\n",
       "      <td>...</td>\n",
       "      <td>...</td>\n",
       "    </tr>\n",
       "    <tr>\n",
       "      <th>ID12395</th>\n",
       "      <td>False</td>\n",
       "      <td>False</td>\n",
       "      <td>False</td>\n",
       "      <td>False</td>\n",
       "      <td>False</td>\n",
       "      <td>False</td>\n",
       "      <td>False</td>\n",
       "      <td>False</td>\n",
       "    </tr>\n",
       "    <tr>\n",
       "      <th>ID12396</th>\n",
       "      <td>False</td>\n",
       "      <td>False</td>\n",
       "      <td>False</td>\n",
       "      <td>False</td>\n",
       "      <td>False</td>\n",
       "      <td>False</td>\n",
       "      <td>False</td>\n",
       "      <td>False</td>\n",
       "    </tr>\n",
       "    <tr>\n",
       "      <th>ID12397</th>\n",
       "      <td>False</td>\n",
       "      <td>False</td>\n",
       "      <td>False</td>\n",
       "      <td>False</td>\n",
       "      <td>False</td>\n",
       "      <td>False</td>\n",
       "      <td>False</td>\n",
       "      <td>False</td>\n",
       "    </tr>\n",
       "    <tr>\n",
       "      <th>ID12398</th>\n",
       "      <td>False</td>\n",
       "      <td>False</td>\n",
       "      <td>False</td>\n",
       "      <td>False</td>\n",
       "      <td>False</td>\n",
       "      <td>False</td>\n",
       "      <td>False</td>\n",
       "      <td>False</td>\n",
       "    </tr>\n",
       "    <tr>\n",
       "      <th>ID12399</th>\n",
       "      <td>False</td>\n",
       "      <td>False</td>\n",
       "      <td>False</td>\n",
       "      <td>False</td>\n",
       "      <td>False</td>\n",
       "      <td>False</td>\n",
       "      <td>False</td>\n",
       "      <td>False</td>\n",
       "    </tr>\n",
       "  </tbody>\n",
       "</table>\n",
       "<p>300 rows × 8 columns</p>\n",
       "</div>"
      ],
      "text/plain": [
       "               age  gender  region  income  married  children    car  response\n",
       "customer_id                                                                   \n",
       "ID12101      False   False    True   False    False     False  False     False\n",
       "ID12102      False   False   False   False    False      True  False     False\n",
       "ID12103      False   False   False   False    False     False  False     False\n",
       "ID12104      False   False   False   False    False     False  False     False\n",
       "ID12104      False   False   False   False    False     False  False     False\n",
       "...            ...     ...     ...     ...      ...       ...    ...       ...\n",
       "ID12395      False   False   False   False    False     False  False     False\n",
       "ID12396      False   False   False   False    False     False  False     False\n",
       "ID12397      False   False   False   False    False     False  False     False\n",
       "ID12398      False   False   False   False    False     False  False     False\n",
       "ID12399      False   False   False   False    False     False  False     False\n",
       "\n",
       "[300 rows x 8 columns]"
      ]
     },
     "execution_count": 19,
     "metadata": {},
     "output_type": "execute_result"
    }
   ],
   "source": [
    "# checking missing values, then show first 5 rows\n",
    "df.isnull()\n",
    "\n"
   ]
  },
  {
   "cell_type": "code",
   "execution_count": 20,
   "id": "f035ccc6",
   "metadata": {},
   "outputs": [
    {
     "data": {
      "text/plain": [
       "age         7\n",
       "gender      0\n",
       "region      6\n",
       "income      0\n",
       "married     0\n",
       "children    6\n",
       "car         0\n",
       "response    0\n",
       "dtype: int64"
      ]
     },
     "execution_count": 20,
     "metadata": {},
     "output_type": "execute_result"
    }
   ],
   "source": [
    "# check missing by summation variable\n",
    "df.isnull().sum()\n",
    "\n",
    "\n"
   ]
  },
  {
   "cell_type": "code",
   "execution_count": 22,
   "id": "1cc55303",
   "metadata": {},
   "outputs": [
    {
     "data": {
      "text/plain": [
       "19"
      ]
     },
     "execution_count": 22,
     "metadata": {},
     "output_type": "execute_result"
    }
   ],
   "source": [
    "# check how many missing values in data\n",
    "df.isnull().sum().sum()\n",
    "\n"
   ]
  },
  {
   "cell_type": "code",
   "execution_count": 24,
   "id": "85bb38e3",
   "metadata": {},
   "outputs": [
    {
     "data": {
      "text/plain": [
       "age          56\n",
       "gender        6\n",
       "region        4\n",
       "income      299\n",
       "married       2\n",
       "children      4\n",
       "car           2\n",
       "response      2\n",
       "dtype: int64"
      ]
     },
     "execution_count": 24,
     "metadata": {},
     "output_type": "execute_result"
    }
   ],
   "source": [
    "# check unique values present in each column of the dataframe\n",
    "df.nunique()\n",
    "\n"
   ]
  },
  {
   "cell_type": "code",
   "execution_count": 26,
   "id": "b5484c32",
   "metadata": {},
   "outputs": [
    {
     "data": {
      "text/plain": [
       "array(['F', 'MALE', 'WOMEN', 'FEMALE', 'MAN', 'M'], dtype=object)"
      ]
     },
     "execution_count": 26,
     "metadata": {},
     "output_type": "execute_result"
    }
   ],
   "source": [
    "# check  unique values present in \"gender\" column of the dataframe\n",
    "df.gender.unique()\n",
    "\n"
   ]
  },
  {
   "cell_type": "markdown",
   "id": "e38a51ec",
   "metadata": {},
   "source": [
    "### Step 3: Remove the NaN values using dropna() method\n",
    "* dataframe.dropna(axis, how, thresh, subset, inplace)"
   ]
  },
  {
   "cell_type": "code",
   "execution_count": 32,
   "id": "33b73966",
   "metadata": {},
   "outputs": [
    {
     "data": {
      "text/plain": [
       "age         0\n",
       "gender      0\n",
       "region      0\n",
       "income      0\n",
       "married     0\n",
       "children    0\n",
       "car         0\n",
       "response    0\n",
       "dtype: int64"
      ]
     },
     "execution_count": 32,
     "metadata": {},
     "output_type": "execute_result"
    }
   ],
   "source": [
    "## check isnull() each column\n",
    "dfCtm = df.dropna()\n",
    "dfCtm.isnull().sum()"
   ]
  },
  {
   "cell_type": "code",
   "execution_count": 31,
   "id": "455e422f",
   "metadata": {},
   "outputs": [
    {
     "data": {
      "text/plain": [
       "age         0\n",
       "gender      0\n",
       "region      0\n",
       "income      0\n",
       "married     0\n",
       "children    6\n",
       "car         0\n",
       "response    0\n",
       "dtype: int64"
      ]
     },
     "execution_count": 31,
     "metadata": {},
     "output_type": "execute_result"
    }
   ],
   "source": [
    "# Remove NaN in datafram value on \"age\" and \"region\" column ... ,inplace=True\n",
    "dfCtm = df.dropna(subset=[\"age\",\"region\"])\n",
    "dfCtm.isnull().sum()\n",
    "\n"
   ]
  },
  {
   "cell_type": "code",
   "execution_count": 33,
   "id": "b29ff76c",
   "metadata": {},
   "outputs": [
    {
     "data": {
      "text/plain": [
       "age         7\n",
       "gender      0\n",
       "region      6\n",
       "income      0\n",
       "married     0\n",
       "children    6\n",
       "car         0\n",
       "response    0\n",
       "dtype: int64"
      ]
     },
     "execution_count": 33,
     "metadata": {},
     "output_type": "execute_result"
    }
   ],
   "source": [
    "# Check NaN value \n",
    "df.isnull().sum()"
   ]
  },
  {
   "cell_type": "code",
   "execution_count": 34,
   "id": "082e4653",
   "metadata": {},
   "outputs": [
    {
     "data": {
      "text/plain": [
       "age         0\n",
       "gender      0\n",
       "region      0\n",
       "income      0\n",
       "married     0\n",
       "children    0\n",
       "car         0\n",
       "response    0\n",
       "dtype: int64"
      ]
     },
     "execution_count": 34,
     "metadata": {},
     "output_type": "execute_result"
    }
   ],
   "source": [
    "# Drop the rows(axis=0) where at least one element is missing.\n",
    "dfCtm = df.dropna(axis=0)\n",
    "dfCtm.isnull().sum()\n",
    "\n"
   ]
  },
  {
   "cell_type": "code",
   "execution_count": 17,
   "id": "722dddd2",
   "metadata": {},
   "outputs": [
    {
     "data": {
      "text/plain": [
       "customer_id    0\n",
       "age            0\n",
       "gender         0\n",
       "region         0\n",
       "income         0\n",
       "married        0\n",
       "children       0\n",
       "car            0\n",
       "response       0\n",
       "dtype: int64"
      ]
     },
     "execution_count": 17,
     "metadata": {},
     "output_type": "execute_result"
    }
   ],
   "source": [
    "# Check NaN value \n",
    "df.isnull().sum()"
   ]
  },
  {
   "cell_type": "markdown",
   "id": "02a96c62",
   "metadata": {},
   "source": [
    "### Step 4: Fill in NaN missing values\n",
    "#### Loading data in \"df\" Data frame again\n",
    "* DataFrame.fillna(value, axis, inplace)\n",
    "* DataFrame.Column_Name.fillna(value, axis, inplace)"
   ]
  },
  {
   "cell_type": "code",
   "execution_count": 35,
   "id": "5abb1707",
   "metadata": {},
   "outputs": [
    {
     "data": {
      "text/plain": [
       "customer_id    0\n",
       "age            7\n",
       "gender         0\n",
       "region         6\n",
       "income         0\n",
       "married        0\n",
       "children       6\n",
       "car            0\n",
       "response       0\n",
       "dtype: int64"
      ]
     },
     "execution_count": 35,
     "metadata": {},
     "output_type": "execute_result"
    }
   ],
   "source": [
    "# Load dataset again for practice fill value in Null values\n",
    "df = pd.read_csv('customers.csv')\n",
    "# Check NaN value \n",
    "df.isnull().sum()"
   ]
  },
  {
   "cell_type": "code",
   "execution_count": 36,
   "id": "31522f68",
   "metadata": {},
   "outputs": [
    {
     "data": {
      "text/html": [
       "<div>\n",
       "<style scoped>\n",
       "    .dataframe tbody tr th:only-of-type {\n",
       "        vertical-align: middle;\n",
       "    }\n",
       "\n",
       "    .dataframe tbody tr th {\n",
       "        vertical-align: top;\n",
       "    }\n",
       "\n",
       "    .dataframe thead th {\n",
       "        text-align: right;\n",
       "    }\n",
       "</style>\n",
       "<table border=\"1\" class=\"dataframe\">\n",
       "  <thead>\n",
       "    <tr style=\"text-align: right;\">\n",
       "      <th></th>\n",
       "      <th>customer_id</th>\n",
       "      <th>age</th>\n",
       "      <th>gender</th>\n",
       "      <th>region</th>\n",
       "      <th>income</th>\n",
       "      <th>married</th>\n",
       "      <th>children</th>\n",
       "      <th>car</th>\n",
       "      <th>response</th>\n",
       "    </tr>\n",
       "  </thead>\n",
       "  <tbody>\n",
       "    <tr>\n",
       "      <th>0</th>\n",
       "      <td>ID12101</td>\n",
       "      <td>48.0</td>\n",
       "      <td>F</td>\n",
       "      <td>NaN</td>\n",
       "      <td>17546.0</td>\n",
       "      <td>NO</td>\n",
       "      <td>1.0</td>\n",
       "      <td>NO</td>\n",
       "      <td>NO</td>\n",
       "    </tr>\n",
       "    <tr>\n",
       "      <th>1</th>\n",
       "      <td>ID12102</td>\n",
       "      <td>40.0</td>\n",
       "      <td>MALE</td>\n",
       "      <td>TOWN</td>\n",
       "      <td>30085.1</td>\n",
       "      <td>YES</td>\n",
       "      <td>NaN</td>\n",
       "      <td>YES</td>\n",
       "      <td>NO</td>\n",
       "    </tr>\n",
       "    <tr>\n",
       "      <th>2</th>\n",
       "      <td>ID12103</td>\n",
       "      <td>51.0</td>\n",
       "      <td>WOMEN</td>\n",
       "      <td>INNER_CITY</td>\n",
       "      <td>16575.4</td>\n",
       "      <td>YES</td>\n",
       "      <td>0.0</td>\n",
       "      <td>YES</td>\n",
       "      <td>YES</td>\n",
       "    </tr>\n",
       "    <tr>\n",
       "      <th>3</th>\n",
       "      <td>ID12104</td>\n",
       "      <td>23.0</td>\n",
       "      <td>FEMALE</td>\n",
       "      <td>TOWN</td>\n",
       "      <td>20375.4</td>\n",
       "      <td>YES</td>\n",
       "      <td>3.0</td>\n",
       "      <td>NO</td>\n",
       "      <td>NO</td>\n",
       "    </tr>\n",
       "    <tr>\n",
       "      <th>4</th>\n",
       "      <td>ID12104</td>\n",
       "      <td>23.0</td>\n",
       "      <td>FEMALE</td>\n",
       "      <td>TOWN</td>\n",
       "      <td>20375.4</td>\n",
       "      <td>YES</td>\n",
       "      <td>3.0</td>\n",
       "      <td>NO</td>\n",
       "      <td>NO</td>\n",
       "    </tr>\n",
       "  </tbody>\n",
       "</table>\n",
       "</div>"
      ],
      "text/plain": [
       "  customer_id   age  gender      region   income married  children  car  \\\n",
       "0     ID12101  48.0       F         NaN  17546.0      NO       1.0   NO   \n",
       "1     ID12102  40.0    MALE        TOWN  30085.1     YES       NaN  YES   \n",
       "2     ID12103  51.0   WOMEN  INNER_CITY  16575.4     YES       0.0  YES   \n",
       "3     ID12104  23.0  FEMALE        TOWN  20375.4     YES       3.0   NO   \n",
       "4     ID12104  23.0  FEMALE        TOWN  20375.4     YES       3.0   NO   \n",
       "\n",
       "  response  \n",
       "0       NO  \n",
       "1       NO  \n",
       "2      YES  \n",
       "3       NO  \n",
       "4       NO  "
      ]
     },
     "execution_count": 36,
     "metadata": {},
     "output_type": "execute_result"
    }
   ],
   "source": [
    "df.head(5)"
   ]
  },
  {
   "cell_type": "markdown",
   "id": "ced8932f",
   "metadata": {},
   "source": [
    "* **fill in missing value with  50  and save the data to column age**\n",
    "* **datafram.column_name.fillna(50,inplace=True)**"
   ]
  },
  {
   "cell_type": "code",
   "execution_count": 37,
   "id": "69c4e123",
   "metadata": {},
   "outputs": [],
   "source": [
    "# fill in missing with singular column\n",
    "dfCtm.age.fillna(50,inplace=True)\n",
    "\n"
   ]
  },
  {
   "cell_type": "markdown",
   "id": "6f19a2b4",
   "metadata": {},
   "source": [
    "* **fill in missing with a string : \"TOWN\" and save the data to column region**\n",
    "* **datafram.column_name.fillna('TOWN',inplace=True)**"
   ]
  },
  {
   "cell_type": "code",
   "execution_count": 38,
   "id": "de8df849",
   "metadata": {},
   "outputs": [],
   "source": [
    "# fill in missing with a string : \"TOWN\" and save the data to column region\n",
    "dfCtm.region.fillna(\"TOWN\",inplace=True)\n"
   ]
  },
  {
   "cell_type": "markdown",
   "id": "4be89181",
   "metadata": {},
   "source": [
    "* **fill in missing with values with sample median() in column \"children\"**\n",
    "* **datafram.column_name.fillna(df.children.median(),inplace=True)**"
   ]
  },
  {
   "cell_type": "code",
   "execution_count": 39,
   "id": "cde418a0",
   "metadata": {},
   "outputs": [],
   "source": [
    "# fill in missing with values with sample median() in column \"children\"\n",
    "dfCtm.children.fillna(df.children.median(),inplace=True)\n"
   ]
  },
  {
   "cell_type": "code",
   "execution_count": 23,
   "id": "96baaef3",
   "metadata": {},
   "outputs": [
    {
     "data": {
      "text/plain": [
       "customer_id    0\n",
       "age            0\n",
       "gender         0\n",
       "region         0\n",
       "income         0\n",
       "married        0\n",
       "children       0\n",
       "car            0\n",
       "response       0\n",
       "dtype: int64"
      ]
     },
     "execution_count": 23,
     "metadata": {},
     "output_type": "execute_result"
    }
   ],
   "source": [
    "# Check NaN value \n",
    "df.isnull().sum()"
   ]
  },
  {
   "cell_type": "markdown",
   "id": "0c79357c",
   "metadata": {},
   "source": [
    "### Step 5.1 Check Duplicate Value in Column \"customer_id\"\n",
    "* **DataFrame.Column_Name.duplicated().sum()**"
   ]
  },
  {
   "cell_type": "code",
   "execution_count": 44,
   "id": "555d85f7",
   "metadata": {},
   "outputs": [
    {
     "data": {
      "text/plain": [
       "1"
      ]
     },
     "execution_count": 44,
     "metadata": {},
     "output_type": "execute_result"
    }
   ],
   "source": [
    "#Handle Duplicate Value in \"customer_id\" Column\n",
    "df.customer_id.duplicated().sum()\n"
   ]
  },
  {
   "cell_type": "markdown",
   "id": "233c62a2",
   "metadata": {},
   "source": [
    "### Step 5.2: Remove Duplicate Value in Column \"customer_id\"\n",
    "* **DataFrame.drop_duplicats(subset =' ', inplace = True)**"
   ]
  },
  {
   "cell_type": "code",
   "execution_count": 51,
   "id": "ddba43f3",
   "metadata": {},
   "outputs": [
    {
     "data": {
      "text/html": [
       "<div>\n",
       "<style scoped>\n",
       "    .dataframe tbody tr th:only-of-type {\n",
       "        vertical-align: middle;\n",
       "    }\n",
       "\n",
       "    .dataframe tbody tr th {\n",
       "        vertical-align: top;\n",
       "    }\n",
       "\n",
       "    .dataframe thead th {\n",
       "        text-align: right;\n",
       "    }\n",
       "</style>\n",
       "<table border=\"1\" class=\"dataframe\">\n",
       "  <thead>\n",
       "    <tr style=\"text-align: right;\">\n",
       "      <th></th>\n",
       "      <th>age</th>\n",
       "      <th>gender</th>\n",
       "      <th>region</th>\n",
       "      <th>income</th>\n",
       "      <th>married</th>\n",
       "      <th>children</th>\n",
       "      <th>car</th>\n",
       "      <th>response</th>\n",
       "    </tr>\n",
       "    <tr>\n",
       "      <th>customer_id</th>\n",
       "      <th></th>\n",
       "      <th></th>\n",
       "      <th></th>\n",
       "      <th></th>\n",
       "      <th></th>\n",
       "      <th></th>\n",
       "      <th></th>\n",
       "      <th></th>\n",
       "    </tr>\n",
       "  </thead>\n",
       "  <tbody>\n",
       "    <tr>\n",
       "      <th>ID12103</th>\n",
       "      <td>51.0</td>\n",
       "      <td>WOMEN</td>\n",
       "      <td>INNER_CITY</td>\n",
       "      <td>16575.40</td>\n",
       "      <td>YES</td>\n",
       "      <td>0.0</td>\n",
       "      <td>YES</td>\n",
       "      <td>YES</td>\n",
       "    </tr>\n",
       "    <tr>\n",
       "      <th>ID12104</th>\n",
       "      <td>23.0</td>\n",
       "      <td>FEMALE</td>\n",
       "      <td>TOWN</td>\n",
       "      <td>20375.40</td>\n",
       "      <td>YES</td>\n",
       "      <td>3.0</td>\n",
       "      <td>NO</td>\n",
       "      <td>NO</td>\n",
       "    </tr>\n",
       "    <tr>\n",
       "      <th>ID12104</th>\n",
       "      <td>23.0</td>\n",
       "      <td>FEMALE</td>\n",
       "      <td>TOWN</td>\n",
       "      <td>20375.40</td>\n",
       "      <td>YES</td>\n",
       "      <td>3.0</td>\n",
       "      <td>NO</td>\n",
       "      <td>NO</td>\n",
       "    </tr>\n",
       "    <tr>\n",
       "      <th>ID12106</th>\n",
       "      <td>57.0</td>\n",
       "      <td>WOMEN</td>\n",
       "      <td>TOWN</td>\n",
       "      <td>37869.60</td>\n",
       "      <td>YES</td>\n",
       "      <td>2.0</td>\n",
       "      <td>NO</td>\n",
       "      <td>YES</td>\n",
       "    </tr>\n",
       "    <tr>\n",
       "      <th>ID12107</th>\n",
       "      <td>22.0</td>\n",
       "      <td>MALE</td>\n",
       "      <td>RURAL</td>\n",
       "      <td>8877.07</td>\n",
       "      <td>NO</td>\n",
       "      <td>0.0</td>\n",
       "      <td>NO</td>\n",
       "      <td>NO</td>\n",
       "    </tr>\n",
       "    <tr>\n",
       "      <th>ID12108</th>\n",
       "      <td>58.0</td>\n",
       "      <td>MALE</td>\n",
       "      <td>TOWN</td>\n",
       "      <td>24946.60</td>\n",
       "      <td>YES</td>\n",
       "      <td>0.0</td>\n",
       "      <td>YES</td>\n",
       "      <td>YES</td>\n",
       "    </tr>\n",
       "  </tbody>\n",
       "</table>\n",
       "</div>"
      ],
      "text/plain": [
       "              age  gender      region    income married  children  car  \\\n",
       "customer_id                                                              \n",
       "ID12103      51.0   WOMEN  INNER_CITY  16575.40     YES       0.0  YES   \n",
       "ID12104      23.0  FEMALE        TOWN  20375.40     YES       3.0   NO   \n",
       "ID12104      23.0  FEMALE        TOWN  20375.40     YES       3.0   NO   \n",
       "ID12106      57.0   WOMEN        TOWN  37869.60     YES       2.0   NO   \n",
       "ID12107      22.0    MALE       RURAL   8877.07      NO       0.0   NO   \n",
       "ID12108      58.0    MALE        TOWN  24946.60     YES       0.0  YES   \n",
       "\n",
       "            response  \n",
       "customer_id           \n",
       "ID12103          YES  \n",
       "ID12104           NO  \n",
       "ID12104           NO  \n",
       "ID12106          YES  \n",
       "ID12107           NO  \n",
       "ID12108          YES  "
      ]
     },
     "execution_count": 51,
     "metadata": {},
     "output_type": "execute_result"
    }
   ],
   "source": [
    "#Remove Duplicate Value in Column\n",
    "df.drop_duplicates(subset ='customer_id', inplace = True)\n",
    "dfCtm.head(6)"
   ]
  },
  {
   "cell_type": "code",
   "execution_count": 52,
   "id": "3d76469a",
   "metadata": {},
   "outputs": [
    {
     "data": {
      "text/plain": [
       "0"
      ]
     },
     "execution_count": 52,
     "metadata": {},
     "output_type": "execute_result"
    }
   ],
   "source": [
    "#Check duplicate rows\n",
    "df.customer_id.duplicated().sum()"
   ]
  },
  {
   "cell_type": "markdown",
   "id": "369d5127",
   "metadata": {},
   "source": [
    "### Exploration Data Analysis Technique"
   ]
  },
  {
   "cell_type": "markdown",
   "id": "024d0d10",
   "metadata": {},
   "source": [
    "### Count Plot :: Seaborn\n",
    "* **sns.countplot(df[column_name])**\n",
    "* **using column name is \"gender\"**"
   ]
  },
  {
   "cell_type": "code",
   "execution_count": 53,
   "id": "bde9424d",
   "metadata": {
    "scrolled": false
   },
   "outputs": [
    {
     "name": "stderr",
     "output_type": "stream",
     "text": [
      "C:\\Users\\Mark\\anaconda3\\lib\\site-packages\\seaborn\\_decorators.py:36: FutureWarning: Pass the following variable as a keyword arg: x. From version 0.12, the only valid positional argument will be `data`, and passing other arguments without an explicit keyword will result in an error or misinterpretation.\n",
      "  warnings.warn(\n"
     ]
    },
    {
     "data": {
      "text/plain": [
       "<AxesSubplot:xlabel='gender', ylabel='count'>"
      ]
     },
     "execution_count": 53,
     "metadata": {},
     "output_type": "execute_result"
    },
    {
     "data": {
      "image/png": "[encoded data removed]",
      "text/plain": [
       "<Figure size 640x480 with 1 Axes>"
      ]
     },
     "metadata": {},
     "output_type": "display_data"
    }
   ],
   "source": [
    "#Create seaborn graph of countplot in colunm \"\"gender\n",
    "sns.countplot(df['gender'])\n",
    "\n"
   ]
  },
  {
   "cell_type": "markdown",
   "id": "1ea0321e",
   "metadata": {},
   "source": [
    "### Replace value \n",
    "* **DataFrame.replace(value, inplace = True)**\n",
    "* **Create Function replaceValueGender() to replace follow value as below**\n",
    "** replace F AND WOMEN to FEMALE\n",
    "** replace M AND MAN to MALE"
   ]
  },
  {
   "cell_type": "code",
   "execution_count": 62,
   "id": "d06e2179",
   "metadata": {},
   "outputs": [
    {
     "data": {
      "text/html": [
       "<div>\n",
       "<style scoped>\n",
       "    .dataframe tbody tr th:only-of-type {\n",
       "        vertical-align: middle;\n",
       "    }\n",
       "\n",
       "    .dataframe tbody tr th {\n",
       "        vertical-align: top;\n",
       "    }\n",
       "\n",
       "    .dataframe thead th {\n",
       "        text-align: right;\n",
       "    }\n",
       "</style>\n",
       "<table border=\"1\" class=\"dataframe\">\n",
       "  <thead>\n",
       "    <tr style=\"text-align: right;\">\n",
       "      <th></th>\n",
       "      <th>customer_id</th>\n",
       "      <th>age</th>\n",
       "      <th>gender</th>\n",
       "      <th>region</th>\n",
       "      <th>income</th>\n",
       "      <th>married</th>\n",
       "      <th>children</th>\n",
       "      <th>car</th>\n",
       "      <th>response</th>\n",
       "    </tr>\n",
       "  </thead>\n",
       "  <tbody>\n",
       "    <tr>\n",
       "      <th>0</th>\n",
       "      <td>ID12101</td>\n",
       "      <td>48.0</td>\n",
       "      <td>F</td>\n",
       "      <td>NaN</td>\n",
       "      <td>17546.00</td>\n",
       "      <td>NO</td>\n",
       "      <td>1.0</td>\n",
       "      <td>NO</td>\n",
       "      <td>NO</td>\n",
       "    </tr>\n",
       "    <tr>\n",
       "      <th>1</th>\n",
       "      <td>ID12102</td>\n",
       "      <td>40.0</td>\n",
       "      <td>M</td>\n",
       "      <td>TOWN</td>\n",
       "      <td>30085.10</td>\n",
       "      <td>YES</td>\n",
       "      <td>NaN</td>\n",
       "      <td>YES</td>\n",
       "      <td>NO</td>\n",
       "    </tr>\n",
       "    <tr>\n",
       "      <th>2</th>\n",
       "      <td>ID12103</td>\n",
       "      <td>51.0</td>\n",
       "      <td>F</td>\n",
       "      <td>INNER_CITY</td>\n",
       "      <td>16575.40</td>\n",
       "      <td>YES</td>\n",
       "      <td>0.0</td>\n",
       "      <td>YES</td>\n",
       "      <td>YES</td>\n",
       "    </tr>\n",
       "    <tr>\n",
       "      <th>3</th>\n",
       "      <td>ID12104</td>\n",
       "      <td>23.0</td>\n",
       "      <td>F</td>\n",
       "      <td>TOWN</td>\n",
       "      <td>20375.40</td>\n",
       "      <td>YES</td>\n",
       "      <td>3.0</td>\n",
       "      <td>NO</td>\n",
       "      <td>NO</td>\n",
       "    </tr>\n",
       "    <tr>\n",
       "      <th>5</th>\n",
       "      <td>ID12105</td>\n",
       "      <td>NaN</td>\n",
       "      <td>M</td>\n",
       "      <td>RURAL</td>\n",
       "      <td>50576.30</td>\n",
       "      <td>YES</td>\n",
       "      <td>0.0</td>\n",
       "      <td>NO</td>\n",
       "      <td>YES</td>\n",
       "    </tr>\n",
       "    <tr>\n",
       "      <th>6</th>\n",
       "      <td>ID12106</td>\n",
       "      <td>57.0</td>\n",
       "      <td>F</td>\n",
       "      <td>TOWN</td>\n",
       "      <td>37869.60</td>\n",
       "      <td>YES</td>\n",
       "      <td>2.0</td>\n",
       "      <td>NO</td>\n",
       "      <td>YES</td>\n",
       "    </tr>\n",
       "    <tr>\n",
       "      <th>7</th>\n",
       "      <td>ID12107</td>\n",
       "      <td>22.0</td>\n",
       "      <td>M</td>\n",
       "      <td>RURAL</td>\n",
       "      <td>8877.07</td>\n",
       "      <td>NO</td>\n",
       "      <td>0.0</td>\n",
       "      <td>NO</td>\n",
       "      <td>NO</td>\n",
       "    </tr>\n",
       "  </tbody>\n",
       "</table>\n",
       "</div>"
      ],
      "text/plain": [
       "  customer_id   age gender      region    income married  children  car  \\\n",
       "0     ID12101  48.0      F         NaN  17546.00      NO       1.0   NO   \n",
       "1     ID12102  40.0      M        TOWN  30085.10     YES       NaN  YES   \n",
       "2     ID12103  51.0      F  INNER_CITY  16575.40     YES       0.0  YES   \n",
       "3     ID12104  23.0      F        TOWN  20375.40     YES       3.0   NO   \n",
       "5     ID12105   NaN      M       RURAL  50576.30     YES       0.0   NO   \n",
       "6     ID12106  57.0      F        TOWN  37869.60     YES       2.0   NO   \n",
       "7     ID12107  22.0      M       RURAL   8877.07      NO       0.0   NO   \n",
       "\n",
       "  response  \n",
       "0       NO  \n",
       "1       NO  \n",
       "2      YES  \n",
       "3       NO  \n",
       "5      YES  \n",
       "6      YES  \n",
       "7       NO  "
      ]
     },
     "execution_count": 62,
     "metadata": {},
     "output_type": "execute_result"
    }
   ],
   "source": [
    "# Create function replaceValueGender():\n",
    "def replaceValueGender():\n",
    "    df.replace('MALE','M',inplace = True)\n",
    "    df.replace('FEMALE','F',inplace = True)\n",
    "    df.replace('WOMEN','F',inplace = True)\n",
    "    df.replace('MAN','M',inplace = True)\n",
    "\n",
    "replaceValueGender()\n",
    "df.head(7)\n"
   ]
  },
  {
   "cell_type": "code",
   "execution_count": 63,
   "id": "0cce220f",
   "metadata": {},
   "outputs": [],
   "source": [
    "# Calling function replaceValueGender()\n",
    "replaceValueGender()"
   ]
  },
  {
   "cell_type": "code",
   "execution_count": 64,
   "id": "cc7c96d7",
   "metadata": {},
   "outputs": [
    {
     "name": "stderr",
     "output_type": "stream",
     "text": [
      "C:\\Users\\Mark\\anaconda3\\lib\\site-packages\\seaborn\\_decorators.py:36: FutureWarning: Pass the following variable as a keyword arg: x. From version 0.12, the only valid positional argument will be `data`, and passing other arguments without an explicit keyword will result in an error or misinterpretation.\n",
      "  warnings.warn(\n"
     ]
    },
    {
     "data": {
      "text/plain": [
       "<AxesSubplot:xlabel='gender', ylabel='count'>"
      ]
     },
     "execution_count": 64,
     "metadata": {},
     "output_type": "execute_result"
    },
    {
     "data": {
      "image/png": "[encoded data removed]",
      "text/plain": [
       "<Figure size 640x480 with 1 Axes>"
      ]
     },
     "metadata": {},
     "output_type": "display_data"
    }
   ],
   "source": [
    "#Show countplot again\n",
    "sns.countplot(df['gender'])\n",
    "\n",
    "\n"
   ]
  },
  {
   "cell_type": "markdown",
   "id": "47f9e3bd",
   "metadata": {},
   "source": [
    "### Box Plot :: Matplotlib\n",
    "* **data_frame.boxplot(column ='column_name')**\n",
    "* **using column name is \"age\"**"
   ]
  },
  {
   "cell_type": "code",
   "execution_count": 65,
   "id": "fc4aa83b",
   "metadata": {},
   "outputs": [
    {
     "data": {
      "text/plain": [
       "<AxesSubplot:>"
      ]
     },
     "execution_count": 65,
     "metadata": {},
     "output_type": "execute_result"
    },
    {
     "data": {
      "image/png": "[encoded data removed]",
      "text/plain": [
       "<Figure size 640x480 with 1 Axes>"
      ]
     },
     "metadata": {},
     "output_type": "display_data"
    }
   ],
   "source": [
    "## Create boxplot graph\n",
    "df.boxplot(column ='age')"
   ]
  },
  {
   "cell_type": "code",
   "execution_count": null,
   "id": "3958b3a2",
   "metadata": {},
   "outputs": [],
   "source": []
  },
  {
   "cell_type": "markdown",
   "id": "917fc7e3",
   "metadata": {},
   "source": [
    "### Drop value \n",
    "* **DataFrame.drop(index, inplace = True)**\n",
    "** Index is df.index[df['age'] >= 80]"
   ]
  },
  {
   "cell_type": "code",
   "execution_count": 2,
   "id": "9013061c",
   "metadata": {},
   "outputs": [
    {
     "ename": "NameError",
     "evalue": "name 'df' is not defined",
     "output_type": "error",
     "traceback": [
      "\u001b[1;31m---------------------------------------------------------------------------\u001b[0m",
      "\u001b[1;31mNameError\u001b[0m                                 Traceback (most recent call last)",
      "\u001b[1;32m~\\AppData\\Local\\Temp\\ipykernel_3100\\2571165640.py\u001b[0m in \u001b[0;36m<module>\u001b[1;34m\u001b[0m\n\u001b[0;32m      1\u001b[0m \u001b[1;31m# Drop value in finding index :  df.index[df['age'] >= 80]\u001b[0m\u001b[1;33m\u001b[0m\u001b[1;33m\u001b[0m\u001b[0m\n\u001b[1;32m----> 2\u001b[1;33m \u001b[0mdf\u001b[0m\u001b[1;33m.\u001b[0m\u001b[0mdrop\u001b[0m\u001b[1;33m(\u001b[0m\u001b[0mdf\u001b[0m\u001b[1;33m.\u001b[0m\u001b[0mindex\u001b[0m\u001b[1;33m[\u001b[0m\u001b[0mdf\u001b[0m\u001b[1;33m[\u001b[0m\u001b[1;34m'age'\u001b[0m\u001b[1;33m]\u001b[0m \u001b[1;33m>=\u001b[0m \u001b[1;36m80\u001b[0m\u001b[1;33m]\u001b[0m\u001b[1;33m,\u001b[0m \u001b[0minplace\u001b[0m \u001b[1;33m=\u001b[0m \u001b[1;32mTrue\u001b[0m\u001b[1;33m)\u001b[0m\u001b[1;33m\u001b[0m\u001b[1;33m\u001b[0m\u001b[0m\n\u001b[0m\u001b[0;32m      3\u001b[0m \u001b[1;33m\u001b[0m\u001b[0m\n",
      "\u001b[1;31mNameError\u001b[0m: name 'df' is not defined"
     ]
    }
   ],
   "source": [
    "# Drop value in finding index :  df.index[df['age'] >= 80]\n",
    "df.drop(df.index[df['age'] >= 80], inplace = True)\n",
    "\n"
   ]
  },
  {
   "cell_type": "code",
   "execution_count": 67,
   "id": "6af93d68",
   "metadata": {},
   "outputs": [
    {
     "data": {
      "text/plain": [
       "<AxesSubplot:>"
      ]
     },
     "execution_count": 67,
     "metadata": {},
     "output_type": "execute_result"
    },
    {
     "data": {
      "image/png": "[encoded data removed]",
      "text/plain": [
       "<Figure size 640x480 with 1 Axes>"
      ]
     },
     "metadata": {},
     "output_type": "display_data"
    }
   ],
   "source": [
    "# Create boxplot graph of colunm age again\n",
    "df.boxplot(column ='age')"
   ]
  },
  {
   "cell_type": "code",
   "execution_count": null,
   "id": "7a797906",
   "metadata": {},
   "outputs": [],
   "source": []
  }
 ],
 "metadata": {
  "kernelspec": {
   "display_name": "Python 3 (ipykernel)",
   "language": "python",
   "name": "python3"
  },
  "language_info": {
   "codemirror_mode": {
    "name": "ipython",
    "version": 3
   },
   "file_extension": ".py",
   "mimetype": "text/x-python",
   "name": "python",
   "nbconvert_exporter": "python",
   "pygments_lexer": "ipython3",
   "version": "3.9.13"
  }
 },
 "nbformat": 4,
 "nbformat_minor": 5
}
